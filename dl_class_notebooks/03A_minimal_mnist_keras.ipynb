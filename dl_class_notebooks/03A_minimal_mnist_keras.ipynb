{
 "cells": [
  {
   "attachments": {},
   "cell_type": "markdown",
   "metadata": {},
   "source": [
    "# Multiclass Classification - a Simple Keras Model (MNIST)\n",
    "Adapted from [Chollet notebook 2](https://github.com/fchollet/deep-learning-with-python-notebooks/blob/master/chapter02_mathematical-building-blocks.ipynb).\n",
    "Presented here in accordance with the MIT license.\n",
    "\n",
    "The objectives of this notebooks are:\n",
    "1. Get to know the Keras framework and how it corresponds to the Tensorflow API, specifically:\n",
    "     * `keras.Sequential` - define a sequential model\n",
    "     * `model.compile` - config the model, e.g. with losses and metrics\n",
    "     * `model.fit` - train the model\n",
    "     * `model.predict` - run inference with the model\n",
    "     * `tf.keras.models.save_model`\n",
    "2. `softmax` \n",
    "3. `sparse_categorical_crossentropy`"
   ]
  },
  {
   "cell_type": "code",
   "execution_count": 1,
   "metadata": {},
   "outputs": [],
   "source": [
    "from tensorflow.keras.datasets import mnist\n",
    "from tensorflow import keras\n",
    "from tensorflow.keras import layers\n",
    "import tensorflow as tf"
   ]
  },
  {
   "attachments": {},
   "cell_type": "markdown",
   "metadata": {},
   "source": [
    "## Get the Data"
   ]
  },
  {
   "attachments": {},
   "cell_type": "markdown",
   "metadata": {},
   "source": [
    "* Here we will use [tensorflow.keras.datasets](https://keras.io/api/datasets/) as our data repository. It provides API access to a collection of a few toy datasets (in numpy format) that can be used to train and test simple models.\n",
    "* [MNIST](https://keras.io/api/datasets/mnist/) is a dataset of 60,000 28x28 grayscale images of the 10 digits (0-9), along with a test set of 10,000 images."
   ]
  },
  {
   "cell_type": "code",
   "execution_count": 2,
   "metadata": {},
   "outputs": [],
   "source": [
    "(train_images, train_labels), (test_images, test_labels) = mnist.load_data()"
   ]
  },
  {
   "attachments": {},
   "cell_type": "markdown",
   "metadata": {},
   "source": [
    "## Data Exploration"
   ]
  },
  {
   "cell_type": "code",
   "execution_count": 3,
   "metadata": {},
   "outputs": [
    {
     "name": "stdout",
     "output_type": "stream",
     "text": [
      "Image DType: <class 'numpy.ndarray'>\n",
      "Image Element DType: <class 'numpy.uint8'>\n",
      "Label Element DType: <class 'numpy.uint8'>\n",
      "**Shapes:**\n",
      "Train Data:\n",
      "Images: (60000, 28, 28)\n",
      "Labels: (60000,)\n",
      "Test Data:\n",
      "Images: (10000, 28, 28)\n",
      "Labels: (10000,)\n",
      "Image Data Range:\n",
      "Min: 0\n",
      "Max: 255\n"
     ]
    }
   ],
   "source": [
    "print(f'Image DType: {type(train_images)}')\n",
    "print(f'Image Element DType: {type(train_images[0,0,0])}')\n",
    "print(f'Label Element DType: {type(train_labels[0])}')\n",
    "print('**Shapes:**')\n",
    "print('Train Data:')\n",
    "print(f'Images: {train_images.shape}')\n",
    "print(f'Labels: {train_labels.shape}')\n",
    "print('Test Data:')  # the text images should be a random sample of the overall test set, and hence should have the same type, shape and image-size as the overall train set\n",
    "print(f'Images: {test_images.shape}')\n",
    "print(f'Labels: {test_labels.shape}')\n",
    "print('Image Data Range:')\n",
    "print(f'Min: {train_images.min()}')\n",
    "print(f'Max: {train_images.max()}')"
   ]
  },
  {
   "cell_type": "code",
   "execution_count": 4,
   "metadata": {},
   "outputs": [
    {
     "data": {
      "text/plain": [
       "<matplotlib.image.AxesImage at 0x16d23229ad0>"
      ]
     },
     "execution_count": 4,
     "metadata": {},
     "output_type": "execute_result"
    },
    {
     "data": {
      "image/png": "[encoded data removed]",
      "text/plain": [
       "<Figure size 640x480 with 1 Axes>"
      ]
     },
     "metadata": {},
     "output_type": "display_data"
    }
   ],
   "source": [
    "# plot the first image in the training set in grayscale\n",
    "import matplotlib.pyplot as plt\n",
    "plt.imshow(train_images[1], cmap='gray')  # to understand how a matrix of numbers is converted to an image, have a look at: https://matplotlib.org/stable/api/_as_gen/matplotlib.pyplot.imshow.html"
   ]
  },
  {
   "cell_type": "code",
   "execution_count": 5,
   "metadata": {},
   "outputs": [
    {
     "name": "stdout",
     "output_type": "stream",
     "text": [
      "Label: 0\n"
     ]
    }
   ],
   "source": [
    "# print the label of the first image in the training set   \n",
    "print(f'Label: {train_labels[1]}')"
   ]
  },
  {
   "attachments": {},
   "cell_type": "markdown",
   "metadata": {},
   "source": [
    "* To get familiar with the data, print out the first 5 images and labels in the training set and the first 5 images and labels in the test set\n",
    "* Run the `imshow` below without the `cmap='gray'` argument, and see what happens\n",
    "* What additional data explorations would you like to test, and what would be the motivation for each?\n",
    "* What is the distribution of the labels in the training set? What is the distribution of the labels in the test set?\n",
    "* What is the distribution of the pixel values in the training set? What is the distribution of the pixel values in the test set?"
   ]
  },
  {
   "attachments": {},
   "cell_type": "markdown",
   "metadata": {},
   "source": [
    "## Data preprocessing"
   ]
  },
  {
   "cell_type": "code",
   "execution_count": 6,
   "metadata": {},
   "outputs": [],
   "source": [
    "train_images = train_images.reshape((60000, 28 * 28))  # flattening the 28x28 image into dim=1 (784,) vector (and over all images in the training set)\n",
    "test_images = test_images.reshape((10000, 28 * 28))\n",
    "\n",
    "train_images = train_images.astype(\"float32\") / 255  # normalizing the data to the range [0,1] by min-max range, and casting it to float32\n",
    "test_images = test_images.astype(\"float32\") / 255"
   ]
  },
  {
   "cell_type": "code",
   "execution_count": 7,
   "metadata": {},
   "outputs": [
    {
     "name": "stdout",
     "output_type": "stream",
     "text": [
      "0.0\n",
      "1.0\n",
      "(60000, 784)\n",
      "(784,)\n"
     ]
    }
   ],
   "source": [
    "print(train_images.min())\n",
    "print(train_images.max())\n",
    "print(train_images.shape)\n",
    "print(train_images[0].shape)"
   ]
  },
  {
   "attachments": {},
   "cell_type": "markdown",
   "metadata": {},
   "source": [
    "Notice that despite the normalization, the image is still the same (this is a matplotlib feature, to read more see imshow documentation):"
   ]
  },
  {
   "cell_type": "code",
   "execution_count": 8,
   "metadata": {},
   "outputs": [
    {
     "data": {
      "text/plain": [
       "<matplotlib.image.AxesImage at 0x16d232683d0>"
      ]
     },
     "execution_count": 8,
     "metadata": {},
     "output_type": "execute_result"
    },
    {
     "data": {
      "image/png": "[encoded data removed]",
      "text/plain": [
       "<Figure size 640x480 with 1 Axes>"
      ]
     },
     "metadata": {},
     "output_type": "display_data"
    }
   ],
   "source": [
    "plt.imshow(train_images[0].reshape(28,28), cmap='gray')"
   ]
  },
  {
   "attachments": {},
   "cell_type": "markdown",
   "metadata": {},
   "source": [
    "## Define the model\n",
    "How many neurons does each layer have?"
   ]
  },
  {
   "cell_type": "code",
   "execution_count": 9,
   "metadata": {},
   "outputs": [],
   "source": [
    "model = keras.Sequential([\n",
    "    layers.Dense(512, activation=\"relu\"),\n",
    "    layers.Dense(10, activation=\"softmax\")\n",
    "])"
   ]
  },
  {
   "attachments": {},
   "cell_type": "markdown",
   "metadata": {},
   "source": [
    "## Define the Loss Function, Optimizer and Metrics"
   ]
  },
  {
   "cell_type": "code",
   "execution_count": 10,
   "metadata": {},
   "outputs": [],
   "source": [
    "model.compile(optimizer=\"rmsprop\",  # RMSProp is discussed in the Optimizers section\n",
    "              loss=\"sparse_categorical_crossentropy\",\n",
    "              metrics=[\"accuracy\"])"
   ]
  },
  {
   "attachments": {},
   "cell_type": "markdown",
   "metadata": {},
   "source": [
    "## Training (\"Fitting\") the model"
   ]
  },
  {
   "cell_type": "code",
   "execution_count": 11,
   "metadata": {},
   "outputs": [
    {
     "name": "stdout",
     "output_type": "stream",
     "text": [
      "Epoch 1/5\n",
      "469/469 [==============================] - 3s 6ms/step - loss: 0.2659 - accuracy: 0.9225\n",
      "Epoch 2/5\n",
      "469/469 [==============================] - 3s 6ms/step - loss: 0.1070 - accuracy: 0.9685\n",
      "Epoch 3/5\n",
      "469/469 [==============================] - 3s 6ms/step - loss: 0.0702 - accuracy: 0.9791\n",
      "Epoch 4/5\n",
      "469/469 [==============================] - 3s 6ms/step - loss: 0.0507 - accuracy: 0.9852\n",
      "Epoch 5/5\n",
      "469/469 [==============================] - 3s 6ms/step - loss: 0.0382 - accuracy: 0.9885\n"
     ]
    },
    {
     "data": {
      "text/plain": [
       "<keras.callbacks.History at 0x2120151acd0>"
      ]
     },
     "execution_count": 11,
     "metadata": {},
     "output_type": "execute_result"
    }
   ],
   "source": [
    "model.fit(train_images, train_labels, epochs=5, batch_size=128)"
   ]
  },
  {
   "attachments": {},
   "cell_type": "markdown",
   "metadata": {},
   "source": [
    "## Inference: Using the Model to Make Predictions"
   ]
  },
  {
   "cell_type": "code",
   "execution_count": 12,
   "metadata": {},
   "outputs": [
    {
     "data": {
      "text/plain": [
       "<matplotlib.image.AxesImage at 0x21203897c90>"
      ]
     },
     "execution_count": 12,
     "metadata": {},
     "output_type": "execute_result"
    },
    {
     "data": {
      "image/png": "[encoded data removed]",
      "text/plain": [
       "<Figure size 640x480 with 1 Axes>"
      ]
     },
     "metadata": {},
     "output_type": "display_data"
    }
   ],
   "source": [
    "plt.imshow(test_images[9].reshape(28,28), cmap='gray')  # the actual image"
   ]
  },
  {
   "cell_type": "code",
   "execution_count": 13,
   "metadata": {},
   "outputs": [
    {
     "name": "stdout",
     "output_type": "stream",
     "text": [
      "(784,)\n",
      "(1, 784)\n"
     ]
    }
   ],
   "source": [
    "# a note on shapes: the model expects a 2D array of shape (batch_size, input_dim), so we need to reshape the test image to (1, 784)\n",
    "# Compare:\n",
    "print(test_images[0].shape)  # this will result in an error if given as input to the model (since it is a 1d array)\n",
    "print(test_images[0:1].shape)  # this is a correct shape (2d)"
   ]
  },
  {
   "cell_type": "code",
   "execution_count": 14,
   "metadata": {},
   "outputs": [
    {
     "name": "stdout",
     "output_type": "stream",
     "text": [
      "1/1 [==============================] - 0s 112ms/step\n"
     ]
    }
   ],
   "source": [
    "prediction = model.predict(test_images[9:10])  # the notation `[0:1]` is used to get the first element of the array, but in the desired shape of (None, 784). `None` in Tensorflow means any number of elements, and is used to indicate that the shape is dynamic (i.e. it can be any number of instances)  "
   ]
  },
  {
   "cell_type": "code",
   "execution_count": 15,
   "metadata": {},
   "outputs": [
    {
     "data": {
      "text/plain": [
       "array([[3.9315154e-10, 1.3653295e-11, 1.6952088e-10, 4.2327596e-07,\n",
       "        1.3371055e-03, 9.4220098e-10, 1.6523796e-11, 1.0824360e-04,\n",
       "        1.0335499e-05, 9.9854386e-01]], dtype=float32)"
      ]
     },
     "execution_count": 15,
     "metadata": {},
     "output_type": "execute_result"
    }
   ],
   "source": [
    "prediction  # 10 classes, each with a probability"
   ]
  },
  {
   "cell_type": "code",
   "execution_count": 16,
   "metadata": {},
   "outputs": [
    {
     "data": {
      "text/plain": [
       "9"
      ]
     },
     "execution_count": 16,
     "metadata": {},
     "output_type": "execute_result"
    }
   ],
   "source": [
    "prediction.argmax()  # the class with the highest probability"
   ]
  },
  {
   "cell_type": "code",
   "execution_count": 17,
   "metadata": {},
   "outputs": [
    {
     "data": {
      "text/plain": [
       "0.99854386"
      ]
     },
     "execution_count": 17,
     "metadata": {},
     "output_type": "execute_result"
    }
   ],
   "source": [
    "prediction[0, 9]  # the probability of the 9th class (of the zeroth data instance)"
   ]
  },
  {
   "cell_type": "code",
   "execution_count": 18,
   "metadata": {},
   "outputs": [
    {
     "data": {
      "text/plain": [
       "9"
      ]
     },
     "execution_count": 18,
     "metadata": {},
     "output_type": "execute_result"
    }
   ],
   "source": [
    "test_labels[9]  # the actual label\n"
   ]
  },
  {
   "attachments": {},
   "cell_type": "markdown",
   "metadata": {},
   "source": [
    "## Evaluating the Model with the Test Data"
   ]
  },
  {
   "cell_type": "code",
   "execution_count": 19,
   "metadata": {},
   "outputs": [
    {
     "name": "stdout",
     "output_type": "stream",
     "text": [
      " 91/313 [=======>......................] - ETA: 0s - loss: 0.0954 - accuracy: 0.9698"
     ]
    },
    {
     "name": "stdout",
     "output_type": "stream",
     "text": [
      "313/313 [==============================] - 1s 2ms/step - loss: 0.0658 - accuracy: 0.9793\n",
      "test_acc: 0.9793000221252441\n"
     ]
    }
   ],
   "source": [
    "test_loss, test_acc = model.evaluate(test_images, test_labels)\n",
    "print(f\"test_acc: {test_acc}\")"
   ]
  },
  {
   "cell_type": "markdown",
   "metadata": {},
   "source": [
    "# Plotting the Training and Validation Loss"
   ]
  },
  {
   "cell_type": "code",
   "execution_count": 18,
   "metadata": {},
   "outputs": [],
   "source": [
    "model = keras.Sequential([\n",
    "    layers.Dense(512, activation=\"relu\"),\n",
    "    layers.Dense(10, activation=\"softmax\")\n",
    "])\n",
    "\n",
    "model.compile(optimizer=\"rmsprop\",\n",
    "                loss=\"sparse_categorical_crossentropy\",\n",
    "                metrics=[\"accuracy\"])"
   ]
  },
  {
   "cell_type": "code",
   "execution_count": 19,
   "metadata": {},
   "outputs": [],
   "source": [
    "# first we need to define a validation set\n",
    "x_val = train_images[:10000]\n",
    "partial_x_train = train_images[10000:]\n",
    "y_val = train_labels[:10000]\n",
    "partial_y_train = train_labels[10000:]"
   ]
  },
  {
   "cell_type": "code",
   "execution_count": 20,
   "metadata": {},
   "outputs": [
    {
     "name": "stdout",
     "output_type": "stream",
     "text": [
      "Epoch 1/30\n"
     ]
    },
    {
     "name": "stdout",
     "output_type": "stream",
     "text": [
      "391/391 [==============================] - 2s 5ms/step - loss: 0.2879 - accuracy: 0.9170 - val_loss: 0.1572 - val_accuracy: 0.9552\n",
      "Epoch 2/30\n",
      "391/391 [==============================] - 2s 5ms/step - loss: 0.1194 - accuracy: 0.9654 - val_loss: 0.1116 - val_accuracy: 0.9672\n",
      "Epoch 3/30\n",
      "391/391 [==============================] - 2s 5ms/step - loss: 0.0795 - accuracy: 0.9768 - val_loss: 0.0947 - val_accuracy: 0.9727\n",
      "Epoch 4/30\n",
      "391/391 [==============================] - 2s 5ms/step - loss: 0.0566 - accuracy: 0.9833 - val_loss: 0.0813 - val_accuracy: 0.9752\n",
      "Epoch 5/30\n",
      "391/391 [==============================] - 2s 4ms/step - loss: 0.0426 - accuracy: 0.9877 - val_loss: 0.0729 - val_accuracy: 0.9802\n",
      "Epoch 6/30\n",
      "391/391 [==============================] - 2s 5ms/step - loss: 0.0315 - accuracy: 0.9910 - val_loss: 0.0784 - val_accuracy: 0.9799\n",
      "Epoch 7/30\n",
      "391/391 [==============================] - 2s 5ms/step - loss: 0.0245 - accuracy: 0.9928 - val_loss: 0.0765 - val_accuracy: 0.9793\n",
      "Epoch 8/30\n",
      "391/391 [==============================] - 2s 4ms/step - loss: 0.0178 - accuracy: 0.9953 - val_loss: 0.0754 - val_accuracy: 0.9782\n",
      "Epoch 9/30\n",
      "391/391 [==============================] - 2s 5ms/step - loss: 0.0137 - accuracy: 0.9966 - val_loss: 0.0711 - val_accuracy: 0.9804\n",
      "Epoch 10/30\n",
      "391/391 [==============================] - 2s 5ms/step - loss: 0.0095 - accuracy: 0.9980 - val_loss: 0.0827 - val_accuracy: 0.9791\n",
      "Epoch 11/30\n",
      "391/391 [==============================] - 2s 5ms/step - loss: 0.0073 - accuracy: 0.9982 - val_loss: 0.0962 - val_accuracy: 0.9754\n",
      "Epoch 12/30\n",
      "391/391 [==============================] - 2s 4ms/step - loss: 0.0053 - accuracy: 0.9991 - val_loss: 0.0781 - val_accuracy: 0.9808\n",
      "Epoch 13/30\n",
      "391/391 [==============================] - 2s 5ms/step - loss: 0.0036 - accuracy: 0.9993 - val_loss: 0.0741 - val_accuracy: 0.9808\n",
      "Epoch 14/30\n",
      "391/391 [==============================] - 2s 5ms/step - loss: 0.0025 - accuracy: 0.9997 - val_loss: 0.0734 - val_accuracy: 0.9830\n",
      "Epoch 15/30\n",
      "391/391 [==============================] - 2s 5ms/step - loss: 0.0017 - accuracy: 0.9998 - val_loss: 0.0786 - val_accuracy: 0.9818\n",
      "Epoch 16/30\n",
      "391/391 [==============================] - 2s 5ms/step - loss: 9.9017e-04 - accuracy: 1.0000 - val_loss: 0.0789 - val_accuracy: 0.9818\n",
      "Epoch 17/30\n",
      "391/391 [==============================] - 2s 5ms/step - loss: 7.0927e-04 - accuracy: 1.0000 - val_loss: 0.0799 - val_accuracy: 0.9819\n",
      "Epoch 18/30\n",
      "391/391 [==============================] - 2s 5ms/step - loss: 6.0294e-04 - accuracy: 1.0000 - val_loss: 0.0804 - val_accuracy: 0.9822\n",
      "Epoch 19/30\n",
      "391/391 [==============================] - 2s 5ms/step - loss: 4.4841e-04 - accuracy: 1.0000 - val_loss: 0.0814 - val_accuracy: 0.9822\n",
      "Epoch 20/30\n",
      "391/391 [==============================] - 2s 5ms/step - loss: 3.8546e-04 - accuracy: 1.0000 - val_loss: 0.0835 - val_accuracy: 0.9818\n",
      "Epoch 21/30\n",
      "391/391 [==============================] - 2s 5ms/step - loss: 3.4622e-04 - accuracy: 1.0000 - val_loss: 0.0824 - val_accuracy: 0.9820\n",
      "Epoch 22/30\n",
      "391/391 [==============================] - 2s 5ms/step - loss: 3.0170e-04 - accuracy: 1.0000 - val_loss: 0.0834 - val_accuracy: 0.9826\n",
      "Epoch 23/30\n",
      "391/391 [==============================] - 2s 5ms/step - loss: 2.7572e-04 - accuracy: 1.0000 - val_loss: 0.0850 - val_accuracy: 0.9817\n",
      "Epoch 24/30\n",
      "391/391 [==============================] - 2s 5ms/step - loss: 2.5441e-04 - accuracy: 1.0000 - val_loss: 0.0843 - val_accuracy: 0.9824\n",
      "Epoch 25/30\n",
      "391/391 [==============================] - 2s 5ms/step - loss: 2.3235e-04 - accuracy: 1.0000 - val_loss: 0.0845 - val_accuracy: 0.9822\n",
      "Epoch 26/30\n",
      "391/391 [==============================] - 2s 5ms/step - loss: 2.1886e-04 - accuracy: 1.0000 - val_loss: 0.0857 - val_accuracy: 0.9826\n",
      "Epoch 27/30\n",
      "391/391 [==============================] - 2s 5ms/step - loss: 2.0464e-04 - accuracy: 1.0000 - val_loss: 0.0860 - val_accuracy: 0.9824\n",
      "Epoch 28/30\n",
      "391/391 [==============================] - 2s 5ms/step - loss: 1.9160e-04 - accuracy: 1.0000 - val_loss: 0.0864 - val_accuracy: 0.9828\n",
      "Epoch 29/30\n",
      "391/391 [==============================] - 2s 5ms/step - loss: 1.8142e-04 - accuracy: 1.0000 - val_loss: 0.0872 - val_accuracy: 0.9826\n",
      "Epoch 30/30\n",
      "391/391 [==============================] - 2s 5ms/step - loss: 1.7102e-04 - accuracy: 1.0000 - val_loss: 0.0878 - val_accuracy: 0.9823\n"
     ]
    },
    {
     "data": {
      "text/plain": [
       "dict_keys(['loss', 'accuracy', 'val_loss', 'val_accuracy'])"
      ]
     },
     "execution_count": 20,
     "metadata": {},
     "output_type": "execute_result"
    }
   ],
   "source": [
    "history = model.fit(partial_x_train,\n",
    "                    partial_y_train,\n",
    "                    epochs=30,\n",
    "                    batch_size=128,\n",
    "                    validation_data=(x_val, y_val))\n",
    "\n",
    "history_dict = history.history\n",
    "history_dict.keys()"
   ]
  },
  {
   "cell_type": "code",
   "execution_count": 25,
   "metadata": {},
   "outputs": [
    {
     "data": {
      "text/plain": [
       "Text(0.5, 1.0, 'Training and validation loss')"
      ]
     },
     "execution_count": 25,
     "metadata": {},
     "output_type": "execute_result"
    },
    {
     "data": {
      "image/png": "[encoded data removed]",
      "text/plain": [
       "<Figure size 900x500 with 1 Axes>"
      ]
     },
     "metadata": {},
     "output_type": "display_data"
    }
   ],
   "source": [
    "# plot the training and validation loss\n",
    "import matplotlib.pyplot as plt\n",
    "plt.figure(figsize=(9, 5))\n",
    "loss_values = history_dict[\"loss\"]\n",
    "val_loss_values = history_dict[\"val_loss\"]\n",
    "epochs = range(1, len(loss_values) + 1)\n",
    "plt.plot(epochs, loss_values, \"bo\", label=\"Training loss\")\n",
    "plt.plot(epochs, val_loss_values, \"ro\", label=\"Validation loss\")\n",
    "plt.xlabel(\"Epochs\")\n",
    "plt.xticks(epochs)\n",
    "plt.ylabel(\"Loss\")\n",
    "plt.legend()\n",
    "plt.title(\"Training and validation loss\")"
   ]
  },
  {
   "cell_type": "code",
   "execution_count": 26,
   "metadata": {},
   "outputs": [
    {
     "data": {
      "text/plain": [
       "Text(0.5, 1.0, 'Training and validation accuracy')"
      ]
     },
     "execution_count": 26,
     "metadata": {},
     "output_type": "execute_result"
    },
    {
     "data": {
      "image/png": "[encoded data removed]",
      "text/plain": [
       "<Figure size 900x500 with 1 Axes>"
      ]
     },
     "metadata": {},
     "output_type": "display_data"
    }
   ],
   "source": [
    "# plot the training and validation accuracy\n",
    "import matplotlib.pyplot as plt\n",
    "plt.figure(figsize=(9, 5))\n",
    "loss_values = history_dict[\"accuracy\"]\n",
    "val_loss_values = history_dict[\"val_accuracy\"]\n",
    "epochs = range(1, len(loss_values) + 1)\n",
    "plt.plot(epochs, loss_values, \"bo\", label=\"Training accuracy\")\n",
    "plt.plot(epochs, val_loss_values, \"ro\", label=\"Validation accuracy\")\n",
    "plt.xlabel(\"Epochs\")\n",
    "plt.xticks(epochs)\n",
    "plt.ylabel(\"Accuracy\")\n",
    "plt.legend()\n",
    "plt.title(\"Training and validation accuracy\")"
   ]
  },
  {
   "attachments": {},
   "cell_type": "markdown",
   "metadata": {},
   "source": [
    "## Saving the Model for Future Use\n",
    " This allows using the model for future inference, serving or re-training.\n",
    "\n",
    "The recommended formats is `pb` (the default), since it allows loading the model by both Keras and Native Tensorflow. The `h5` format on the other hand can be loaded only with the Keras model (which is fine, if that's how it is used. Moreover, a model can always be loaded in an `h5` format, and then saved in the `pb` format).\n",
    "\n",
    "A second choice one has to make is whether they you'd like to save the optimizer. The default saves it, and adding a flag can allow its removal. The benefit of saving the optimizer is if one is interested to continue the training from the same state of the optimizer (for instance, starting with the saved momentum, if it's a momentum-based optimizer). Training can still be done on a model without a saved optimizer, but this will be a 'fresh start'. Removing the optimizer is useful once the current training is done. An example would be when one exports the model for deployment, that is that the model will run predictions."
   ]
  },
  {
   "cell_type": "code",
   "execution_count": 20,
   "metadata": {},
   "outputs": [
    {
     "name": "stderr",
     "output_type": "stream",
     "text": [
      "WARNING:absl:Found untraced functions such as _update_step_xla while saving (showing 1 of 1). These functions will not be directly callable after loading.\n"
     ]
    },
    {
     "name": "stdout",
     "output_type": "stream",
     "text": [
      "INFO:tensorflow:Assets written to: ../models/mnist_model/keras_pb/assets\n"
     ]
    },
    {
     "name": "stderr",
     "output_type": "stream",
     "text": [
      "INFO:tensorflow:Assets written to: ../models/mnist_model/keras_pb/assets\n"
     ]
    }
   ],
   "source": [
    "# Saving with Keras, default `.pb` format\n",
    "tf.keras.models.save_model(model, '../models/mnist_model/keras_pb/')"
   ]
  },
  {
   "cell_type": "code",
   "execution_count": 21,
   "metadata": {},
   "outputs": [
    {
     "name": "stdout",
     "output_type": "stream",
     "text": [
      "INFO:tensorflow:Assets written to: ../models/mnist_model/keras_pb_no_optimizer/assets\n"
     ]
    },
    {
     "name": "stderr",
     "output_type": "stream",
     "text": [
      "INFO:tensorflow:Assets written to: ../models/mnist_model/keras_pb_no_optimizer/assets\n"
     ]
    }
   ],
   "source": [
    "# Saving with Keras, default `.pb` format, and without the optimizer\n",
    "tf.keras.models.save_model(model, '../models/mnist_model/keras_pb_no_optimizer/', include_optimizer=False)"
   ]
  },
  {
   "cell_type": "code",
   "execution_count": 22,
   "metadata": {},
   "outputs": [],
   "source": [
    "# Saving with Keras an h5\n",
    "tf.keras.models.save_model(model, '../models/mnist_model/keras_h5/model.h5', save_format='h5')"
   ]
  },
  {
   "cell_type": "code",
   "execution_count": 23,
   "metadata": {},
   "outputs": [
    {
     "name": "stderr",
     "output_type": "stream",
     "text": [
      "WARNING:absl:Found untraced functions such as _update_step_xla while saving (showing 1 of 1). These functions will not be directly callable after loading.\n"
     ]
    },
    {
     "name": "stdout",
     "output_type": "stream",
     "text": [
      "INFO:tensorflow:Assets written to: ../models/mnist_model/tf/assets\n"
     ]
    },
    {
     "name": "stderr",
     "output_type": "stream",
     "text": [
      "INFO:tensorflow:Assets written to: ../models/mnist_model/tf/assets\n"
     ]
    }
   ],
   "source": [
    "# Saving with Tensorflow\n",
    "tf.saved_model.save(model, '../models/mnist_model/tf/')"
   ]
  },
  {
   "cell_type": "code",
   "execution_count": null,
   "metadata": {},
   "outputs": [],
   "source": []
  }
 ],
 "metadata": {
  "kernelspec": {
   "display_name": "tensorflow_cpu",
   "language": "python",
   "name": "python3"
  },
  "language_info": {
   "codemirror_mode": {
    "name": "ipython",
    "version": 3
   },
   "file_extension": ".py",
   "mimetype": "text/x-python",
   "name": "python",
   "nbconvert_exporter": "python",
   "pygments_lexer": "ipython3",
   "version": "3.11.3"
  },
  "orig_nbformat": 4
 },
 "nbformat": 4,
 "nbformat_minor": 2
}
